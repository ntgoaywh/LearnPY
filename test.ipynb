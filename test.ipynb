{
 "cells": [
  {
   "cell_type": "code",
   "id": "initial_id",
   "metadata": {
    "collapsed": true,
    "ExecuteTime": {
     "end_time": "2025-04-16T10:15:24.448157Z",
     "start_time": "2025-04-16T10:15:24.443921Z"
    }
   },
   "source": "print(\"零基础，学python，月薪过万，就来黑马程序员\")",
   "outputs": [
    {
     "name": "stdout",
     "output_type": "stream",
     "text": [
      "零基础，学python，月薪过万，就来黑马程序员\n"
     ]
    }
   ],
   "execution_count": 58
  },
  {
   "metadata": {
    "ExecuteTime": {
     "end_time": "2025-04-16T10:15:24.478111Z",
     "start_time": "2025-04-16T10:15:24.473852Z"
    }
   },
   "cell_type": "code",
   "source": [
    "money = 100\n",
    "money -=60\n",
    "print(\"钱包还有：\",money)"
   ],
   "id": "60ba831fcb655f29",
   "outputs": [
    {
     "name": "stdout",
     "output_type": "stream",
     "text": [
      "钱包还有： 40\n"
     ]
    }
   ],
   "execution_count": 59
  },
  {
   "metadata": {
    "ExecuteTime": {
     "end_time": "2025-04-16T10:15:24.511558Z",
     "start_time": "2025-04-16T10:15:24.507973Z"
    }
   },
   "cell_type": "code",
   "source": [
    "name = \"黑马程序员\"\n",
    "name_type = type(name)\n",
    "print(name_type)"
   ],
   "id": "ec61d49139eb2c3e",
   "outputs": [
    {
     "name": "stdout",
     "output_type": "stream",
     "text": [
      "<class 'str'>\n"
     ]
    }
   ],
   "execution_count": 60
  },
  {
   "metadata": {
    "ExecuteTime": {
     "end_time": "2025-04-16T10:15:24.541553Z",
     "start_time": "2025-04-16T10:15:24.537130Z"
    }
   },
   "cell_type": "code",
   "source": [
    "num_str = str(11)\n",
    "print(type(num_str),num_str)\n",
    "float_str = str(11.45)\n",
    "print(type(float_str),float_str)\n",
    "num_1 = int(\"11\")\n",
    "print(type(num_1),num_1)\n",
    "num_2 = float(\"11\")\n",
    "print(type(num_2),num_2)\n",
    "num_3 = float(11)\n",
    "print(type(num_3),num_3)\n",
    "num_4 = int(11.456)\n",
    "print(type(num_4),num_4)"
   ],
   "id": "fb478f80da283b44",
   "outputs": [
    {
     "name": "stdout",
     "output_type": "stream",
     "text": [
      "<class 'str'> 11\n",
      "<class 'str'> 11.45\n",
      "<class 'int'> 11\n",
      "<class 'float'> 11.0\n",
      "<class 'float'> 11.0\n",
      "<class 'int'> 11\n"
     ]
    }
   ],
   "execution_count": 61
  },
  {
   "metadata": {
    "ExecuteTime": {
     "end_time": "2025-04-16T10:15:24.578448Z",
     "start_time": "2025-04-16T10:15:24.575027Z"
    }
   },
   "cell_type": "code",
   "source": [
    "name_1 = \"\\\"黑马程序员\"\n",
    "print(name_1)\n",
    "name_2 = '\\'黑马程序员\\''\n",
    "print(name_2)"
   ],
   "id": "1e25e187bcfae6b3",
   "outputs": [
    {
     "name": "stdout",
     "output_type": "stream",
     "text": [
      "\"黑马程序员\n",
      "'黑马程序员'\n"
     ]
    }
   ],
   "execution_count": 62
  },
  {
   "metadata": {
    "ExecuteTime": {
     "end_time": "2025-04-16T10:15:24.685286Z",
     "start_time": "2025-04-16T10:15:24.681568Z"
    }
   },
   "cell_type": "code",
   "source": [
    "name = \"黑马程序员\"\n",
    "avg_salary = 16781.345\n",
    "class_num = 57\n",
    "message = \"Python大数据学科，北京%d期，毕业平均工资：%.3f\" %(class_num,avg_salary)\n",
    "print(message)"
   ],
   "id": "8169d164b9824a0e",
   "outputs": [
    {
     "name": "stdout",
     "output_type": "stream",
     "text": [
      "Python大数据学科，北京57期，毕业平均工资：16781.345\n"
     ]
    }
   ],
   "execution_count": 63
  },
  {
   "metadata": {
    "ExecuteTime": {
     "end_time": "2025-04-16T10:16:18.253414Z",
     "start_time": "2025-04-16T10:16:18.249022Z"
    }
   },
   "cell_type": "code",
   "source": [
    "avg_salary = 16781.345\n",
    "print(\"数字16781宽度限制5，结果是：%5d\"%avg_salary)\n",
    "print(\"数字16781宽度限制10，结果是：%10.2f\"%avg_salary)"
   ],
   "id": "55ccce675d3cbcd5",
   "outputs": [
    {
     "name": "stdout",
     "output_type": "stream",
     "text": [
      "数字16781宽度限制5，结果是：16781\n",
      "数字16781宽度限制10，结果是：  16781.35\n"
     ]
    }
   ],
   "execution_count": 66
  },
  {
   "metadata": {
    "ExecuteTime": {
     "end_time": "2025-04-16T10:18:42.140338Z",
     "start_time": "2025-04-16T10:18:42.136524Z"
    }
   },
   "cell_type": "code",
   "source": [
    "name = \"黑马程序员\"\n",
    "set_up_year = 2006\n",
    "stock_price = 19.99\n",
    "print(f\"我是{name}，我成立于:{set_up_year}，我今天的股票价格是：{stock_price}\")"
   ],
   "id": "4e6ecf9fdcc0923e",
   "outputs": [
    {
     "name": "stdout",
     "output_type": "stream",
     "text": [
      "我是黑马程序员，我成立于:2006，我今天的股票价格是：19.99\n"
     ]
    }
   ],
   "execution_count": 67
  },
  {
   "metadata": {
    "ExecuteTime": {
     "end_time": "2025-04-16T10:43:29.435675Z",
     "start_time": "2025-04-16T10:43:29.431011Z"
    }
   },
   "cell_type": "code",
   "source": [
    "print(\"1*1的结果是:%d\" %(1*1))\n",
    "print(f\"1*1的结果是: {1*2}\")\n",
    "print(\"字符串在python中的类型是：%s\" % type(\"字符串\"))"
   ],
   "id": "1b0265a696fee4ed",
   "outputs": [
    {
     "name": "stdout",
     "output_type": "stream",
     "text": [
      "1*1的结果是:1\n",
      "1*1的结果是: 2\n",
      "字符串在python中的类型是：<class 'str'>\n"
     ]
    }
   ],
   "execution_count": 3
  },
  {
   "metadata": {
    "ExecuteTime": {
     "end_time": "2025-04-16T15:37:13.956739Z",
     "start_time": "2025-04-16T15:37:07.057378Z"
    }
   },
   "cell_type": "code",
   "source": [
    "name = input(\"请告诉我你是谁？\")\n",
    "print(\"Get!!!你是:%s\" % name)"
   ],
   "id": "a4ba9dd479c3e33d",
   "outputs": [
    {
     "name": "stdout",
     "output_type": "stream",
     "text": [
      "Get!!!你是:黑马程序员\n"
     ]
    }
   ],
   "execution_count": 7
  },
  {
   "metadata": {
    "ExecuteTime": {
     "end_time": "2025-04-16T15:39:09.015719Z",
     "start_time": "2025-04-16T15:39:05.433985Z"
    }
   },
   "cell_type": "code",
   "source": [
    "num  = input(\"请告诉我你的银行卡密码:\")\n",
    "print(\"你的银行卡密码的类型是:\",type(num))"
   ],
   "id": "46157da277beef5b",
   "outputs": [
    {
     "name": "stdout",
     "output_type": "stream",
     "text": [
      "你的银行卡密码的类型是: <class 'str'>\n"
     ]
    }
   ],
   "execution_count": 8
  }
 ],
 "metadata": {
  "kernelspec": {
   "display_name": "Python 3",
   "language": "python",
   "name": "python3"
  },
  "language_info": {
   "codemirror_mode": {
    "name": "ipython",
    "version": 2
   },
   "file_extension": ".py",
   "mimetype": "text/x-python",
   "name": "python",
   "nbconvert_exporter": "python",
   "pygments_lexer": "ipython2",
   "version": "2.7.6"
  }
 },
 "nbformat": 4,
 "nbformat_minor": 5
}
