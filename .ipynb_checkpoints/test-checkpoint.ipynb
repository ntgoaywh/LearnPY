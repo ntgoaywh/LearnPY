{
 "cells": [
  {
   "cell_type": "code",
   "id": "initial_id",
   "metadata": {
    "collapsed": true,
    "ExecuteTime": {
     "end_time": "2025-04-16T09:19:57.583446Z",
     "start_time": "2025-04-16T09:19:57.579303Z"
    }
   },
   "source": "print(\"零基础，学python，月薪过万，就来黑马程序员\")",
   "outputs": [
    {
     "name": "stdout",
     "output_type": "stream",
     "text": [
      "零基础，学python，月薪过万，就来黑马程序员\n"
     ]
    }
   ],
   "execution_count": 3
  },
  {
   "metadata": {
    "ExecuteTime": {
     "end_time": "2025-04-16T09:28:00.692194Z",
     "start_time": "2025-04-16T09:28:00.686816Z"
    }
   },
   "cell_type": "code",
   "source": [
    "money = 100\n",
    "money = money -10\n",
    "print(\"钱包还有：\",money)"
   ],
   "id": "60ba831fcb655f29",
   "outputs": [
    {
     "name": "stdout",
     "output_type": "stream",
     "text": [
      "钱包还有： 90\n"
     ]
    }
   ],
   "execution_count": 5
  },
  {
   "metadata": {
    "ExecuteTime": {
     "end_time": "2025-04-16T09:30:39.878579Z",
     "start_time": "2025-04-16T09:30:39.874855Z"
    }
   },
   "cell_type": "code",
   "source": [
    "name = \"黑马程序员\"\n",
    "name_type = type(name)\n",
    "print(name_type)"
   ],
   "id": "ec61d49139eb2c3e",
   "outputs": [
    {
     "name": "stdout",
     "output_type": "stream",
     "text": [
      "<class 'str'>\n"
     ]
    }
   ],
   "execution_count": 6
  },
  {
   "metadata": {
    "ExecuteTime": {
     "end_time": "2025-04-16T09:38:11.876190Z",
     "start_time": "2025-04-16T09:38:11.872282Z"
    }
   },
   "cell_type": "code",
   "source": [
    "num_str = str(11)\n",
    "print(type(num_str),num_str)\n",
    "float_str = str(11.45)\n",
    "print(type(float_str),float_str)\n",
    "num = int(\"11\")\n",
    "print(type(num),num)\n",
    "num = float(\"11\")\n",
    "print(type(num),num)"
   ],
   "id": "fb478f80da283b44",
   "outputs": [
    {
     "name": "stdout",
     "output_type": "stream",
     "text": [
      "<class 'str'> 11\n",
      "<class 'str'> 11.45\n",
      "<class 'int'> 11\n",
      "<class 'float'> 11.0\n"
     ]
    }
   ],
   "execution_count": 10
  },
  {
   "metadata": {},
   "cell_type": "code",
   "outputs": [],
   "execution_count": null,
   "source": "",
   "id": "1e25e187bcfae6b3"
  }
 ],
 "metadata": {
  "kernelspec": {
   "display_name": "Python 3",
   "language": "python",
   "name": "python3"
  },
  "language_info": {
   "codemirror_mode": {
    "name": "ipython",
    "version": 2
   },
   "file_extension": ".py",
   "mimetype": "text/x-python",
   "name": "python",
   "nbconvert_exporter": "python",
   "pygments_lexer": "ipython2",
   "version": "2.7.6"
  }
 },
 "nbformat": 4,
 "nbformat_minor": 5
}
